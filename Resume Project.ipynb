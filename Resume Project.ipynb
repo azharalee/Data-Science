{
 "cells": [
  {
   "cell_type": "markdown",
   "metadata": {
    "id": "lhyHkrm1u0Sw"
   },
   "source": [
    "# Importing Libraries and loading dataset"
   ]
  },
  {
   "cell_type": "code",
   "execution_count": 7,
   "metadata": {
    "executionInfo": {
     "elapsed": 1648,
     "status": "ok",
     "timestamp": 1694666193705,
     "user": {
      "displayName": "Azhar Ali",
      "userId": "01422980945266001071"
     },
     "user_tz": 420
    },
    "id": "ooepU-eUtVmA"
   },
   "outputs": [],
   "source": [
    "import pandas as pd\n",
    "import numpy as np\n",
    "import matplotlib.pyplot as plt\n",
    "import seaborn as sns\n",
    "sns.set_style('darkgrid')\n",
    "import warnings\n",
    "warnings.filterwarnings('ignore')\n",
    "import re\n",
    "from sklearn.preprocessing import LabelEncoder\n",
    "from sklearn.feature_extraction.text import TfidfVectorizer\n",
    "from sklearn.model_selection import train_test_split\n",
    "from scipy.sparse import hstack\n",
    "from sklearn.multiclass import OneVsRestClassifier\n",
    "from sklearn.neighbors import KNeighborsClassifier\n",
    "from sklearn import metrics"
   ]
  },
  {
   "cell_type": "code",
   "execution_count": 8,
   "metadata": {
    "executionInfo": {
     "elapsed": 1196,
     "status": "ok",
     "timestamp": 1694666194898,
     "user": {
      "displayName": "Azhar Ali",
      "userId": "01422980945266001071"
     },
     "user_tz": 420
    },
    "id": "3xp8ZXGMsvd3"
   },
   "outputs": [],
   "source": [
    "df = pd.read_csv('UpdatedResumeDataSet.csv')"
   ]
  },
  {
   "cell_type": "code",
   "execution_count": 9,
   "metadata": {
    "colab": {
     "base_uri": "https://localhost:8080/",
     "height": 424
    },
    "executionInfo": {
     "elapsed": 116,
     "status": "ok",
     "timestamp": 1694666194899,
     "user": {
      "displayName": "Azhar Ali",
      "userId": "01422980945266001071"
     },
     "user_tz": 420
    },
    "id": "grc-_rBSujCb",
    "outputId": "96e4a35a-327c-4f32-b4a1-0f6ddafb8c70"
   },
   "outputs": [
    {
     "data": {
      "text/html": [
       "<div>\n",
       "<style scoped>\n",
       "    .dataframe tbody tr th:only-of-type {\n",
       "        vertical-align: middle;\n",
       "    }\n",
       "\n",
       "    .dataframe tbody tr th {\n",
       "        vertical-align: top;\n",
       "    }\n",
       "\n",
       "    .dataframe thead th {\n",
       "        text-align: right;\n",
       "    }\n",
       "</style>\n",
       "<table border=\"1\" class=\"dataframe\">\n",
       "  <thead>\n",
       "    <tr style=\"text-align: right;\">\n",
       "      <th></th>\n",
       "      <th>Category</th>\n",
       "      <th>Resume</th>\n",
       "    </tr>\n",
       "  </thead>\n",
       "  <tbody>\n",
       "    <tr>\n",
       "      <th>0</th>\n",
       "      <td>Data Science</td>\n",
       "      <td>Skills * Programming Languages: Python (pandas...</td>\n",
       "    </tr>\n",
       "    <tr>\n",
       "      <th>1</th>\n",
       "      <td>Data Science</td>\n",
       "      <td>Education Details \\r\\nMay 2013 to May 2017 B.E...</td>\n",
       "    </tr>\n",
       "    <tr>\n",
       "      <th>2</th>\n",
       "      <td>Data Science</td>\n",
       "      <td>Areas of Interest Deep Learning, Control Syste...</td>\n",
       "    </tr>\n",
       "    <tr>\n",
       "      <th>3</th>\n",
       "      <td>Data Science</td>\n",
       "      <td>Skills â¢ R â¢ Python â¢ SAP HANA â¢ Table...</td>\n",
       "    </tr>\n",
       "    <tr>\n",
       "      <th>4</th>\n",
       "      <td>Data Science</td>\n",
       "      <td>Education Details \\r\\n MCA   YMCAUST,  Faridab...</td>\n",
       "    </tr>\n",
       "    <tr>\n",
       "      <th>...</th>\n",
       "      <td>...</td>\n",
       "      <td>...</td>\n",
       "    </tr>\n",
       "    <tr>\n",
       "      <th>957</th>\n",
       "      <td>Testing</td>\n",
       "      <td>Computer Skills: â¢ Proficient in MS office (...</td>\n",
       "    </tr>\n",
       "    <tr>\n",
       "      <th>958</th>\n",
       "      <td>Testing</td>\n",
       "      <td>â Willingness to accept the challenges. â ...</td>\n",
       "    </tr>\n",
       "    <tr>\n",
       "      <th>959</th>\n",
       "      <td>Testing</td>\n",
       "      <td>PERSONAL SKILLS â¢ Quick learner, â¢ Eagerne...</td>\n",
       "    </tr>\n",
       "    <tr>\n",
       "      <th>960</th>\n",
       "      <td>Testing</td>\n",
       "      <td>COMPUTER SKILLS &amp; SOFTWARE KNOWLEDGE MS-Power ...</td>\n",
       "    </tr>\n",
       "    <tr>\n",
       "      <th>961</th>\n",
       "      <td>Testing</td>\n",
       "      <td>Skill Set OS Windows XP/7/8/8.1/10 Database MY...</td>\n",
       "    </tr>\n",
       "  </tbody>\n",
       "</table>\n",
       "<p>962 rows × 2 columns</p>\n",
       "</div>"
      ],
      "text/plain": [
       "         Category                                             Resume\n",
       "0    Data Science  Skills * Programming Languages: Python (pandas...\n",
       "1    Data Science  Education Details \\r\\nMay 2013 to May 2017 B.E...\n",
       "2    Data Science  Areas of Interest Deep Learning, Control Syste...\n",
       "3    Data Science  Skills â¢ R â¢ Python â¢ SAP HANA â¢ Table...\n",
       "4    Data Science  Education Details \\r\\n MCA   YMCAUST,  Faridab...\n",
       "..            ...                                                ...\n",
       "957       Testing  Computer Skills: â¢ Proficient in MS office (...\n",
       "958       Testing  â Willingness to accept the challenges. â ...\n",
       "959       Testing  PERSONAL SKILLS â¢ Quick learner, â¢ Eagerne...\n",
       "960       Testing  COMPUTER SKILLS & SOFTWARE KNOWLEDGE MS-Power ...\n",
       "961       Testing  Skill Set OS Windows XP/7/8/8.1/10 Database MY...\n",
       "\n",
       "[962 rows x 2 columns]"
      ]
     },
     "execution_count": 9,
     "metadata": {},
     "output_type": "execute_result"
    }
   ],
   "source": [
    "df"
   ]
  },
  {
   "cell_type": "code",
   "execution_count": 10,
   "metadata": {
    "colab": {
     "base_uri": "https://localhost:8080/",
     "height": 140
    },
    "executionInfo": {
     "elapsed": 105,
     "status": "ok",
     "timestamp": 1694666194900,
     "user": {
      "displayName": "Azhar Ali",
      "userId": "01422980945266001071"
     },
     "user_tz": 420
    },
    "id": "D2QjiUodvCtg",
    "outputId": "b1c88102-c22f-4e70-e468-70900299fb66"
   },
   "outputs": [
    {
     "data": {
      "text/plain": [
       "\"Skills â\\x80¢ R â\\x80¢ Python â\\x80¢ SAP HANA â\\x80¢ Tableau â\\x80¢ SAP HANA SQL â\\x80¢ SAP HANA PAL â\\x80¢ MS SQL â\\x80¢ SAP Lumira â\\x80¢ C# â\\x80¢ Linear Programming â\\x80¢ Data Modelling â\\x80¢ Advance Analytics â\\x80¢ SCM Analytics â\\x80¢ Retail Analytics â\\x80¢Social Media Analytics â\\x80¢ NLP Education Details \\r\\nJanuary 2017 to January 2018 PGDM Business Analytics  Great Lakes Institute of Management & Illinois Institute of Technology\\r\\nJanuary 2013 Bachelor of Engineering Electronics and Communication Bengaluru, Karnataka New Horizon College of Engineering, Bangalore Visvesvaraya Technological University\\r\\nData Science Consultant \\r\\n\\r\\nConsultant - Deloitte USI\\r\\nSkill Details \\r\\nLINEAR PROGRAMMING- Exprience - 6 months\\r\\nRETAIL- Exprience - 6 months\\r\\nRETAIL MARKETING- Exprience - 6 months\\r\\nSCM- Exprience - 6 months\\r\\nSQL- Exprience - Less than 1 year months\\r\\nDeep Learning- Exprience - Less than 1 year months\\r\\nMachine learning- Exprience - Less than 1 year months\\r\\nPython- Exprience - Less than 1 year months\\r\\nR- Exprience - Less than 1 year monthsCompany Details \\r\\ncompany - Deloitte USI\\r\\ndescription - The project involved analysing historic deals and coming with insights to optimize future deals.\\r\\nRole: Was given raw data, carried out end to end analysis and presented insights to client.\\r\\nKey Responsibilities:\\r\\nâ\\x80¢ Extract data from client systems across geographies.\\r\\nâ\\x80¢ Understand and build reports in tableau. Infer meaningful insights to optimize prices and find out process blockades.\\r\\nTechnical Environment: R, Tableau.\\r\\n\\r\\nIndustry: Cross Industry\\r\\nService Area: Cross Industry - Products\\r\\nProject Name: Handwriting recognition\\r\\nConsultant: 3 months.\\r\\nThe project involved taking handwritten images and converting them to digital text images by object detection and sentence creation.\\r\\nRole: I was developing sentence correction functionality.\\r\\nKey Responsibilities:\\r\\nâ\\x80¢ Gather data large enough to capture all English words\\r\\nâ\\x80¢ Train LSTM models on words.\\r\\nTechnical Environment: Python.\\r\\n\\r\\nIndustry: Finance\\r\\nService Area: Financial Services - BI development Project Name: SWIFT\\r\\nConsultant: 8 months.\\r\\nThe project was to develop an analytics infrastructure on top of SAP S/4, it would user to view\\r\\nfinancial reports to respective departments. Reporting also included forecasting expenses.\\r\\nRole: I was leading the offshore team.\\r\\nKey Responsibilities:\\r\\nâ\\x80¢ Design & Develop data models for reporting.\\r\\nâ\\x80¢ Develop ETL for data flow\\r\\nâ\\x80¢ Validate various reports.\\r\\nTechnical Environment: SAP HANA, Tableau, SAP AO.\\r\\n\\r\\nIndustry: Healthcare Analytics\\r\\nService Area: Life Sciences - Product development Project Name: Clinical Healthcare System\\r\\nConsultant: 2 months.\\r\\nThe project was to develop an analytics infrastructure on top of Argus, it would allow users to query faster and provide advance analytics capabilities.\\r\\nRole: I was involved from design to deploy phase, performed a lot of data restructuring and built\\r\\nmodels for insights.\\r\\nKey Responsibilities:\\r\\nâ\\x80¢ Design & Develop data models for reporting.\\r\\nâ\\x80¢ Develop and deploy analytical models.\\r\\nâ\\x80¢ Validate various reports.\\r\\nTechnical Environment: Data Modelling, SAP HANA, Tableau, NLP.\\r\\n\\r\\nIndustry: FMCG\\r\\nService Area: Trade & Promotion\\r\\nProject Name: Consumption Based Planning for Flowers Foods Consultant; 8 months.\\r\\nThe project involved setting up of CRM and CBP modules.\\r\\nRole: I was involved in key data decomposition activities and setting up the base for future year\\r\\nforecast. Over the course of the project I developed various models and carried out key\\r\\nperformance improvements.\\r\\nKey Responsibilities:\\r\\nâ\\x80¢ Design & Develop HANA models for decomposition.\\r\\nâ\\x80¢ Develop data flow for forecast.\\r\\nâ\\x80¢ Developed various views for reporting of Customer/Sales/Funds.\\r\\nâ\\x80¢ Validate various reports in BOBJ.\\r\\nTechnical Environment: Data Modelling, SAP HANA, BOBJ, Time Series Forecasting.\\r\\n\\r\\nInternal Initiative Industry: FMCG\\r\\nCustomer Segmentation and RFM analysis Consultant; 3 months.\\r\\nThe initiative involved setting up of HANA-Python interface and advance analytics on Python. Over the course I had successfully segmented data into five core segments using K-means and carried out RFM analysis in Python. Also developed algorithm to categorize any new customer under the defined buckets.\\r\\nTechnical Environment: Anaconda3, Python3.6, HANA SPS12\\r\\n\\r\\nIndustry: Telecom Invoice state detection Consultant; 1 months.\\r\\nThe initiative was to reduce the manual effort in verifying closed and open invoices manually, it\\r\\ninvolved development to a decision tree to classify open/closed invoices. This enabled effort\\r\\nreduction by 60%.\\r\\nTechnical Environment: R, SAP PAL, SAP HANA SPS12\\r\\n\\r\\nAccenture Experience\\r\\nIndustry: Analytics - Cross Industry\\r\\nIn Process Analytics for SAP Senior Developer; 19 months.\\r\\nAccenture Solutions Pvt. Ltd., India\\r\\nThe project involved development of SAP analytics tool - In Process Analytics (IPA) . My role was to develop database objects and data models to provide operational insights to clients.\\r\\nRole: I have developed various Finance related KPIs and spearheaded various deployments.\\r\\nIntroduced SAP Predictive analytics to reduce development time and reuse functionalities for KPIs and prepared production planning reports.\\r\\nKey Responsibilities:\\r\\nâ\\x80¢ Involved in information gather phase.\\r\\nâ\\x80¢ Designed and implemented SAP HANA data modelling using Attribute View, Analytic View, and\\r\\nCalculation View.\\r\\nâ\\x80¢ Developed various KPI's individually using complex SQL scripts in Calculation views.\\r\\nâ\\x80¢ Created procedures in HANA Database.\\r\\nâ\\x80¢ Took ownership and developed Dashboard functionality.\\r\\nâ\\x80¢ Involved in building data processing algorithms to be executed in R server for cluster analysis.\\r\\nTechnical Environment: R, SAP HANA, T-SQL.\\r\\nIndustry: Cross Industry\\r\\nAccenture Testing Accelerator for SAP Database Developer; 21 months.\\r\\nAccenture Solutions Pvt. Ltd., India\\r\\nRole: I have taken care of all development activities for the ATAS tool and have also completed\\r\\nvarious deployments of the product.\\r\\nApart from these activities I was also actively involved in maintenance of the database servers\\r\\n(Production & Quality)\\r\\nKey Responsibilities:\\r\\nâ\\x80¢ Analyzing business requirements, understanding the scope, getting requirements clarified\\r\\ninteracting with business and further transform all requirements to generate attribute\\r\\nmapping documents and reviewing mapping specification documentation\\r\\nâ\\x80¢ Create / Update database objects like tables, views, stored procedures, function, and packages\\r\\nâ\\x80¢ Monitored SQL Server Error Logs and Application Logs through SQL Server Agent\\r\\nâ\\x80¢ Prepared Data Flow Diagrams, Entity Relationship Diagrams using UML\\r\\nâ\\x80¢ Responsible for Designing, developing and Normalization of database tables\\r\\nâ\\x80¢ Experience in performance tuning using SQL profiler.\\r\\nâ\\x80¢ Involved in QA, UAT, knowledge transfer and support activities\\r\\nTechnical Environment: SQL Server 2008/2014, Visual Studio 2010, Windows Server, Performance\\r\\nMonitor, SQL Server Profiler, C#, PL-SQL, T-SQL.\""
      ]
     },
     "execution_count": 10,
     "metadata": {},
     "output_type": "execute_result"
    }
   ],
   "source": [
    "df['Resume'][3]"
   ]
  },
  {
   "cell_type": "markdown",
   "metadata": {
    "id": "6m6msHTXurrP"
   },
   "source": [
    "# Exploratory Data Analysis (EDA)"
   ]
  },
  {
   "cell_type": "code",
   "execution_count": 11,
   "metadata": {
    "colab": {
     "base_uri": "https://localhost:8080/",
     "height": 833
    },
    "executionInfo": {
     "elapsed": 99,
     "status": "ok",
     "timestamp": 1694666194900,
     "user": {
      "displayName": "Azhar Ali",
      "userId": "01422980945266001071"
     },
     "user_tz": 420
    },
    "id": "-Jl1PSVlun1V",
    "outputId": "196508ae-50a4-4637-f004-33793d7d113e"
   },
   "outputs": [
    {
     "data": {
      "text/html": [
       "<div>\n",
       "<style scoped>\n",
       "    .dataframe tbody tr th:only-of-type {\n",
       "        vertical-align: middle;\n",
       "    }\n",
       "\n",
       "    .dataframe tbody tr th {\n",
       "        vertical-align: top;\n",
       "    }\n",
       "\n",
       "    .dataframe thead th {\n",
       "        text-align: right;\n",
       "    }\n",
       "</style>\n",
       "<table border=\"1\" class=\"dataframe\">\n",
       "  <thead>\n",
       "    <tr style=\"text-align: right;\">\n",
       "      <th></th>\n",
       "      <th>index</th>\n",
       "      <th>Category</th>\n",
       "    </tr>\n",
       "  </thead>\n",
       "  <tbody>\n",
       "    <tr>\n",
       "      <th>0</th>\n",
       "      <td>Java Developer</td>\n",
       "      <td>84</td>\n",
       "    </tr>\n",
       "    <tr>\n",
       "      <th>1</th>\n",
       "      <td>Testing</td>\n",
       "      <td>70</td>\n",
       "    </tr>\n",
       "    <tr>\n",
       "      <th>2</th>\n",
       "      <td>DevOps Engineer</td>\n",
       "      <td>55</td>\n",
       "    </tr>\n",
       "    <tr>\n",
       "      <th>3</th>\n",
       "      <td>Python Developer</td>\n",
       "      <td>48</td>\n",
       "    </tr>\n",
       "    <tr>\n",
       "      <th>4</th>\n",
       "      <td>Web Designing</td>\n",
       "      <td>45</td>\n",
       "    </tr>\n",
       "    <tr>\n",
       "      <th>5</th>\n",
       "      <td>HR</td>\n",
       "      <td>44</td>\n",
       "    </tr>\n",
       "    <tr>\n",
       "      <th>6</th>\n",
       "      <td>Hadoop</td>\n",
       "      <td>42</td>\n",
       "    </tr>\n",
       "    <tr>\n",
       "      <th>7</th>\n",
       "      <td>Blockchain</td>\n",
       "      <td>40</td>\n",
       "    </tr>\n",
       "    <tr>\n",
       "      <th>8</th>\n",
       "      <td>ETL Developer</td>\n",
       "      <td>40</td>\n",
       "    </tr>\n",
       "    <tr>\n",
       "      <th>9</th>\n",
       "      <td>Operations Manager</td>\n",
       "      <td>40</td>\n",
       "    </tr>\n",
       "    <tr>\n",
       "      <th>10</th>\n",
       "      <td>Data Science</td>\n",
       "      <td>40</td>\n",
       "    </tr>\n",
       "    <tr>\n",
       "      <th>11</th>\n",
       "      <td>Sales</td>\n",
       "      <td>40</td>\n",
       "    </tr>\n",
       "    <tr>\n",
       "      <th>12</th>\n",
       "      <td>Mechanical Engineer</td>\n",
       "      <td>40</td>\n",
       "    </tr>\n",
       "    <tr>\n",
       "      <th>13</th>\n",
       "      <td>Arts</td>\n",
       "      <td>36</td>\n",
       "    </tr>\n",
       "    <tr>\n",
       "      <th>14</th>\n",
       "      <td>Database</td>\n",
       "      <td>33</td>\n",
       "    </tr>\n",
       "    <tr>\n",
       "      <th>15</th>\n",
       "      <td>Electrical Engineering</td>\n",
       "      <td>30</td>\n",
       "    </tr>\n",
       "    <tr>\n",
       "      <th>16</th>\n",
       "      <td>Health and fitness</td>\n",
       "      <td>30</td>\n",
       "    </tr>\n",
       "    <tr>\n",
       "      <th>17</th>\n",
       "      <td>PMO</td>\n",
       "      <td>30</td>\n",
       "    </tr>\n",
       "    <tr>\n",
       "      <th>18</th>\n",
       "      <td>Business Analyst</td>\n",
       "      <td>28</td>\n",
       "    </tr>\n",
       "    <tr>\n",
       "      <th>19</th>\n",
       "      <td>DotNet Developer</td>\n",
       "      <td>28</td>\n",
       "    </tr>\n",
       "    <tr>\n",
       "      <th>20</th>\n",
       "      <td>Automation Testing</td>\n",
       "      <td>26</td>\n",
       "    </tr>\n",
       "    <tr>\n",
       "      <th>21</th>\n",
       "      <td>Network Security Engineer</td>\n",
       "      <td>25</td>\n",
       "    </tr>\n",
       "    <tr>\n",
       "      <th>22</th>\n",
       "      <td>SAP Developer</td>\n",
       "      <td>24</td>\n",
       "    </tr>\n",
       "    <tr>\n",
       "      <th>23</th>\n",
       "      <td>Civil Engineer</td>\n",
       "      <td>24</td>\n",
       "    </tr>\n",
       "    <tr>\n",
       "      <th>24</th>\n",
       "      <td>Advocate</td>\n",
       "      <td>20</td>\n",
       "    </tr>\n",
       "  </tbody>\n",
       "</table>\n",
       "</div>"
      ],
      "text/plain": [
       "                        index  Category\n",
       "0              Java Developer        84\n",
       "1                     Testing        70\n",
       "2             DevOps Engineer        55\n",
       "3            Python Developer        48\n",
       "4               Web Designing        45\n",
       "5                          HR        44\n",
       "6                      Hadoop        42\n",
       "7                  Blockchain        40\n",
       "8               ETL Developer        40\n",
       "9          Operations Manager        40\n",
       "10               Data Science        40\n",
       "11                      Sales        40\n",
       "12        Mechanical Engineer        40\n",
       "13                       Arts        36\n",
       "14                   Database        33\n",
       "15     Electrical Engineering        30\n",
       "16         Health and fitness        30\n",
       "17                        PMO        30\n",
       "18           Business Analyst        28\n",
       "19           DotNet Developer        28\n",
       "20         Automation Testing        26\n",
       "21  Network Security Engineer        25\n",
       "22              SAP Developer        24\n",
       "23             Civil Engineer        24\n",
       "24                   Advocate        20"
      ]
     },
     "execution_count": 11,
     "metadata": {},
     "output_type": "execute_result"
    }
   ],
   "source": [
    "Category = df['Category'].value_counts().reset_index()\n",
    "Category"
   ]
  },
  {
   "cell_type": "code",
   "execution_count": 12,
   "metadata": {
    "colab": {
     "base_uri": "https://localhost:8080/",
     "height": 608
    },
    "executionInfo": {
     "elapsed": 1497,
     "status": "ok",
     "timestamp": 1694666196303,
     "user": {
      "displayName": "Azhar Ali",
      "userId": "01422980945266001071"
     },
     "user_tz": 420
    },
    "id": "cnk1Ac_RvgGZ",
    "outputId": "63c06e53-66f6-4c04-bb36-d1f31e795497"
   },
   "outputs": [
    {
     "data": {
      "text/plain": [
       "<Axes: xlabel='count', ylabel='Category'>"
      ]
     },
     "execution_count": 12,
     "metadata": {},
     "output_type": "execute_result"
    },
    {
     "data": {
      "image/png": "[encoded data removed]",
      "text/plain": [
       "<Figure size 1300x700 with 1 Axes>"
      ]
     },
     "metadata": {},
     "output_type": "display_data"
    }
   ],
   "source": [
    "plt.figure(figsize=(13,7))\n",
    "plt.xticks(rotation=90)\n",
    "sns.countplot(y=\"Category\", data=df)"
   ]
  },
  {
   "cell_type": "code",
   "execution_count": 16,
   "metadata": {
    "colab": {
     "base_uri": "https://localhost:8080/",
     "height": 675
    },
    "executionInfo": {
     "elapsed": 18,
     "status": "ok",
     "timestamp": 1694666196303,
     "user": {
      "displayName": "Azhar Ali",
      "userId": "01422980945266001071"
     },
     "user_tz": 420
    },
    "id": "DtQhhEY2v8Qj",
    "outputId": "689a6c3c-550d-449c-fab9-96e482a6cb25"
   },
   "outputs": [
    {
     "data": {
      "image/png": "[encoded data removed]",
      "text/plain": [
       "<Figure size 1200x800 with 1 Axes>"
      ]
     },
     "metadata": {},
     "output_type": "display_data"
    }
   ],
   "source": [
    "counts = df['Category'].value_counts()\n",
    "plt.figure(figsize = (12,8))\n",
    "plt.pie(counts, labels=Category['index'], colors = sns.color_palette('cool'), autopct='%.0f%%')\n",
    "plt.title('Category Distribution')\n",
    "plt.show()"
   ]
  },
  {
   "cell_type": "markdown",
   "metadata": {
    "id": "kWJOlfeP9V9b"
   },
   "source": [
    "###Cleaning Data###\n",
    "\n",
    "\n",
    "*   URLs\n",
    "*   Hashtags\n",
    "*   Mentions\n",
    "*   Special Letters\n",
    "*   Punctuations\n",
    "\n",
    "\n",
    "\n"
   ]
  },
  {
   "cell_type": "code",
   "execution_count": 17,
   "metadata": {
    "executionInfo": {
     "elapsed": 698,
     "status": "ok",
     "timestamp": 1694666196986,
     "user": {
      "displayName": "Azhar Ali",
      "userId": "01422980945266001071"
     },
     "user_tz": 420
    },
    "id": "kP7V6wOQww4X"
   },
   "outputs": [],
   "source": [
    "import re\n",
    "def cleanResume(resumeText):\n",
    "    resumeText = re.sub('http\\S+\\s*', ' ', resumeText)  # remove URLs\n",
    "    resumeText = re.sub('RT|cc', ' ', resumeText)  # remove RT and cc\n",
    "    resumeText = re.sub('#\\S+', '', resumeText)  # remove hashtags\n",
    "    resumeText = re.sub('@\\S+', '  ', resumeText)  # remove mentions\n",
    "    resumeText = re.sub('[%s]' % re.escape(\"\"\"!\"#$%&'()*+,-./:;<=>?@[\\]^_`{|}~\"\"\"), ' ', resumeText)  # remove punctuations\n",
    "    resumeText = re.sub(r'[^\\x00-\\x7f]',r' ', resumeText)\n",
    "    resumeText = re.sub('\\s+', ' ', resumeText)  # remove extra whitespace\n",
    "    return resumeText\n",
    "\n",
    "df['cleaned_resume'] = df.Resume.apply(lambda x: cleanResume(x))"
   ]
  },
  {
   "cell_type": "markdown",
   "metadata": {
    "id": "-0CsPip9BdcL"
   },
   "source": [
    "##Word Cloud"
   ]
  },
  {
   "cell_type": "code",
   "execution_count": 47,
   "metadata": {},
   "outputs": [
    {
     "name": "stdout",
     "output_type": "stream",
     "text": [
      "Collecting pdfplumber\n",
      "  Obtaining dependency information for pdfplumber from https://files.pythonhosted.org/packages/c1/f9/1a41afffe5e7a98ab9b6a6dd3dab9d99b677fae2536f676397c4506f6554/pdfplumber-0.10.2-py3-none-any.whl.metadata\n",
      "  Downloading pdfplumber-0.10.2-py3-none-any.whl.metadata (35 kB)\n",
      "Collecting pdfminer.six==20221105 (from pdfplumber)\n",
      "  Downloading pdfminer.six-20221105-py3-none-any.whl (5.6 MB)\n",
      "     ---------------------------------------- 0.0/5.6 MB ? eta -:--:--\n",
      "      --------------------------------------- 0.1/5.6 MB 1.9 MB/s eta 0:00:03\n",
      "     - -------------------------------------- 0.1/5.6 MB 1.7 MB/s eta 0:00:04\n",
      "     - -------------------------------------- 0.1/5.6 MB 1.7 MB/s eta 0:00:04\n",
      "     - -------------------------------------- 0.1/5.6 MB 1.7 MB/s eta 0:00:04\n",
      "     - -------------------------------------- 0.2/5.6 MB 871.5 kB/s eta 0:00:07\n",
      "     - -------------------------------------- 0.2/5.6 MB 888.4 kB/s eta 0:00:07\n",
      "     - -------------------------------------- 0.3/5.6 MB 944.1 kB/s eta 0:00:06\n",
      "     -- ------------------------------------- 0.3/5.6 MB 981.5 kB/s eta 0:00:06\n",
      "     -- ------------------------------------- 0.4/5.6 MB 1.1 MB/s eta 0:00:05\n",
      "     --- ------------------------------------ 0.5/5.6 MB 1.1 MB/s eta 0:00:05\n",
      "     --- ------------------------------------ 0.5/5.6 MB 1.1 MB/s eta 0:00:05\n",
      "     ---- ----------------------------------- 0.6/5.6 MB 1.1 MB/s eta 0:00:05\n",
      "     ---- ----------------------------------- 0.7/5.6 MB 1.1 MB/s eta 0:00:05\n",
      "     ----- ---------------------------------- 0.8/5.6 MB 1.2 MB/s eta 0:00:05\n",
      "     ----- ---------------------------------- 0.8/5.6 MB 1.2 MB/s eta 0:00:05\n",
      "     ----- ---------------------------------- 0.8/5.6 MB 1.1 MB/s eta 0:00:05\n",
      "     ----- ---------------------------------- 0.8/5.6 MB 1.1 MB/s eta 0:00:05\n",
      "     ----- ---------------------------------- 0.8/5.6 MB 1.0 MB/s eta 0:00:05\n",
      "     ----- ---------------------------------- 0.8/5.6 MB 1.0 MB/s eta 0:00:05\n",
      "     ------ --------------------------------- 0.9/5.6 MB 953.9 kB/s eta 0:00:05\n",
      "     ------ --------------------------------- 0.9/5.6 MB 953.9 kB/s eta 0:00:05\n",
      "     ------ --------------------------------- 0.9/5.6 MB 894.0 kB/s eta 0:00:06\n",
      "     ------ --------------------------------- 0.9/5.6 MB 883.1 kB/s eta 0:00:06\n",
      "     ------ --------------------------------- 0.9/5.6 MB 863.6 kB/s eta 0:00:06\n",
      "     ------ --------------------------------- 1.0/5.6 MB 867.2 kB/s eta 0:00:06\n",
      "     ------- -------------------------------- 1.0/5.6 MB 885.0 kB/s eta 0:00:06\n",
      "     ------- -------------------------------- 1.1/5.6 MB 887.8 kB/s eta 0:00:06\n",
      "     ------- -------------------------------- 1.1/5.6 MB 887.2 kB/s eta 0:00:06\n",
      "     -------- ------------------------------- 1.2/5.6 MB 905.9 kB/s eta 0:00:05\n",
      "     -------- ------------------------------- 1.3/5.6 MB 929.5 kB/s eta 0:00:05\n",
      "     --------- ------------------------------ 1.3/5.6 MB 945.8 kB/s eta 0:00:05\n",
      "     --------- ------------------------------ 1.4/5.6 MB 953.4 kB/s eta 0:00:05\n",
      "     ---------- ----------------------------- 1.4/5.6 MB 951.6 kB/s eta 0:00:05\n",
      "     ---------- ----------------------------- 1.5/5.6 MB 973.0 kB/s eta 0:00:05\n",
      "     ----------- ---------------------------- 1.6/5.6 MB 985.7 kB/s eta 0:00:05\n",
      "     ----------- ---------------------------- 1.6/5.6 MB 998.4 kB/s eta 0:00:04\n",
      "     ------------ --------------------------- 1.7/5.6 MB 994.9 kB/s eta 0:00:04\n",
      "     ------------ --------------------------- 1.8/5.6 MB 1.0 MB/s eta 0:00:04\n",
      "     ------------- -------------------------- 1.8/5.6 MB 1.0 MB/s eta 0:00:04\n",
      "     ------------- -------------------------- 1.9/5.6 MB 1.0 MB/s eta 0:00:04\n",
      "     -------------- ------------------------- 2.0/5.6 MB 1.0 MB/s eta 0:00:04\n",
      "     -------------- ------------------------- 2.0/5.6 MB 1.0 MB/s eta 0:00:04\n",
      "     -------------- ------------------------- 2.1/5.6 MB 1.1 MB/s eta 0:00:04\n",
      "     --------------- ------------------------ 2.2/5.6 MB 1.1 MB/s eta 0:00:04\n",
      "     ---------------- ----------------------- 2.3/5.6 MB 1.1 MB/s eta 0:00:04\n",
      "     ---------------- ----------------------- 2.3/5.6 MB 1.1 MB/s eta 0:00:04\n",
      "     ---------------- ----------------------- 2.3/5.6 MB 1.1 MB/s eta 0:00:04\n",
      "     ----------------- ---------------------- 2.4/5.6 MB 1.1 MB/s eta 0:00:04\n",
      "     ----------------- ---------------------- 2.4/5.6 MB 1.1 MB/s eta 0:00:03\n",
      "     ----------------- ---------------------- 2.5/5.6 MB 1.1 MB/s eta 0:00:03\n",
      "     ------------------ --------------------- 2.5/5.6 MB 1.1 MB/s eta 0:00:03\n",
      "     ------------------ --------------------- 2.6/5.6 MB 1.1 MB/s eta 0:00:03\n",
      "     ------------------- -------------------- 2.7/5.6 MB 1.1 MB/s eta 0:00:03\n",
      "     ------------------- -------------------- 2.8/5.6 MB 1.1 MB/s eta 0:00:03\n",
      "     -------------------- ------------------- 2.8/5.6 MB 1.1 MB/s eta 0:00:03\n",
      "     -------------------- ------------------- 2.9/5.6 MB 1.1 MB/s eta 0:00:03\n",
      "     --------------------- ------------------ 3.0/5.6 MB 1.1 MB/s eta 0:00:03\n",
      "     --------------------- ------------------ 3.0/5.6 MB 1.1 MB/s eta 0:00:03\n",
      "     --------------------- ------------------ 3.0/5.6 MB 1.1 MB/s eta 0:00:03\n",
      "     --------------------- ------------------ 3.0/5.6 MB 1.1 MB/s eta 0:00:03\n",
      "     --------------------- ------------------ 3.1/5.6 MB 1.1 MB/s eta 0:00:03\n",
      "     ---------------------- ----------------- 3.1/5.6 MB 1.1 MB/s eta 0:00:03\n",
      "     ---------------------- ----------------- 3.1/5.6 MB 1.1 MB/s eta 0:00:03\n",
      "     ---------------------- ----------------- 3.1/5.6 MB 1.1 MB/s eta 0:00:03\n",
      "     ---------------------- ----------------- 3.2/5.6 MB 1.1 MB/s eta 0:00:03\n",
      "     ---------------------- ----------------- 3.2/5.6 MB 1.1 MB/s eta 0:00:03\n",
      "     ----------------------- ---------------- 3.3/5.6 MB 1.1 MB/s eta 0:00:03\n",
      "     ----------------------- ---------------- 3.3/5.6 MB 1.1 MB/s eta 0:00:03\n",
      "     ------------------------ --------------- 3.4/5.6 MB 1.1 MB/s eta 0:00:03\n",
      "     ------------------------ --------------- 3.5/5.6 MB 1.1 MB/s eta 0:00:02\n",
      "     ------------------------- -------------- 3.6/5.6 MB 1.1 MB/s eta 0:00:02\n",
      "     ------------------------- -------------- 3.6/5.6 MB 1.1 MB/s eta 0:00:02\n",
      "     -------------------------- ------------- 3.7/5.6 MB 1.1 MB/s eta 0:00:02\n",
      "     -------------------------- ------------- 3.8/5.6 MB 1.1 MB/s eta 0:00:02\n",
      "     --------------------------- ------------ 3.8/5.6 MB 1.1 MB/s eta 0:00:02\n",
      "     --------------------------- ------------ 3.9/5.6 MB 1.1 MB/s eta 0:00:02\n",
      "     --------------------------- ------------ 3.9/5.6 MB 1.1 MB/s eta 0:00:02\n",
      "     --------------------------- ------------ 3.9/5.6 MB 1.1 MB/s eta 0:00:02\n",
      "     ---------------------------- ----------- 4.0/5.6 MB 1.1 MB/s eta 0:00:02\n",
      "     ---------------------------- ----------- 4.0/5.6 MB 1.1 MB/s eta 0:00:02\n",
      "     ---------------------------- ----------- 4.1/5.6 MB 1.1 MB/s eta 0:00:02\n",
      "     ----------------------------- ---------- 4.1/5.6 MB 1.1 MB/s eta 0:00:02\n",
      "     ----------------------------- ---------- 4.2/5.6 MB 1.1 MB/s eta 0:00:02\n",
      "     ------------------------------ --------- 4.2/5.6 MB 1.1 MB/s eta 0:00:02\n",
      "     ------------------------------ --------- 4.3/5.6 MB 1.1 MB/s eta 0:00:02\n",
      "     ------------------------------- -------- 4.4/5.6 MB 1.1 MB/s eta 0:00:02\n",
      "     ------------------------------- -------- 4.5/5.6 MB 1.1 MB/s eta 0:00:01\n",
      "     -------------------------------- ------- 4.5/5.6 MB 1.1 MB/s eta 0:00:01\n",
      "     -------------------------------- ------- 4.6/5.6 MB 1.1 MB/s eta 0:00:01\n",
      "     -------------------------------- ------- 4.6/5.6 MB 1.1 MB/s eta 0:00:01\n",
      "     --------------------------------- ------ 4.7/5.6 MB 1.1 MB/s eta 0:00:01\n",
      "     ---------------------------------- ----- 4.8/5.6 MB 1.1 MB/s eta 0:00:01\n",
      "     ---------------------------------- ----- 4.9/5.6 MB 1.1 MB/s eta 0:00:01\n",
      "     ----------------------------------- ---- 5.0/5.6 MB 1.1 MB/s eta 0:00:01\n",
      "     ------------------------------------ --- 5.1/5.6 MB 1.1 MB/s eta 0:00:01\n",
      "     ------------------------------------ --- 5.1/5.6 MB 1.2 MB/s eta 0:00:01\n",
      "     ------------------------------------ --- 5.2/5.6 MB 1.2 MB/s eta 0:00:01\n",
      "     ------------------------------------- -- 5.2/5.6 MB 1.2 MB/s eta 0:00:01\n",
      "     ------------------------------------- -- 5.3/5.6 MB 1.2 MB/s eta 0:00:01\n",
      "     -------------------------------------- - 5.4/5.6 MB 1.2 MB/s eta 0:00:01\n",
      "     -------------------------------------- - 5.4/5.6 MB 1.2 MB/s eta 0:00:01\n",
      "     -------------------------------------- - 5.5/5.6 MB 1.2 MB/s eta 0:00:01\n",
      "     ---------------------------------------  5.5/5.6 MB 1.2 MB/s eta 0:00:01\n",
      "     ---------------------------------------  5.5/5.6 MB 1.1 MB/s eta 0:00:01\n",
      "     ---------------------------------------  5.6/5.6 MB 1.1 MB/s eta 0:00:01\n",
      "     ---------------------------------------  5.6/5.6 MB 1.1 MB/s eta 0:00:01\n",
      "     ---------------------------------------  5.6/5.6 MB 1.1 MB/s eta 0:00:01\n",
      "     ---------------------------------------- 5.6/5.6 MB 1.1 MB/s eta 0:00:00\n",
      "Requirement already satisfied: Pillow>=9.1 in c:\\users\\sq\\anaconda3\\lib\\site-packages (from pdfplumber) (9.4.0)\n",
      "Collecting pypdfium2>=4.18.0 (from pdfplumber)\n",
      "  Obtaining dependency information for pypdfium2>=4.18.0 from https://files.pythonhosted.org/packages/2d/d6/b8c50358ea19f5811ef4515ae0e3bb6095a06e65e86cbfa671e34d536059/pypdfium2-4.20.0-py3-none-win_amd64.whl.metadata\n",
      "  Downloading pypdfium2-4.20.0-py3-none-win_amd64.whl.metadata (41 kB)\n",
      "     ---------------------------------------- 0.0/41.3 kB ? eta -:--:--\n",
      "     -------------------------------------- 41.3/41.3 kB 971.1 kB/s eta 0:00:00\n",
      "Requirement already satisfied: charset-normalizer>=2.0.0 in c:\\users\\sq\\anaconda3\\lib\\site-packages (from pdfminer.six==20221105->pdfplumber) (2.0.4)\n",
      "Requirement already satisfied: cryptography>=36.0.0 in c:\\users\\sq\\anaconda3\\lib\\site-packages (from pdfminer.six==20221105->pdfplumber) (41.0.2)\n",
      "Requirement already satisfied: cffi>=1.12 in c:\\users\\sq\\anaconda3\\lib\\site-packages (from cryptography>=36.0.0->pdfminer.six==20221105->pdfplumber) (1.15.1)\n",
      "Requirement already satisfied: pycparser in c:\\users\\sq\\anaconda3\\lib\\site-packages (from cffi>=1.12->cryptography>=36.0.0->pdfminer.six==20221105->pdfplumber) (2.21)\n",
      "Downloading pdfplumber-0.10.2-py3-none-any.whl (47 kB)\n",
      "   ---------------------------------------- 0.0/47.5 kB ? eta -:--:--\n",
      "   -------- ------------------------------- 10.2/47.5 kB ? eta -:--:--\n",
      "   ------------------------- -------------- 30.7/47.5 kB 330.3 kB/s eta 0:00:01\n",
      "   ---------------------------------------- 47.5/47.5 kB 400.9 kB/s eta 0:00:00\n",
      "Downloading pypdfium2-4.20.0-py3-none-win_amd64.whl (2.7 MB)\n",
      "   ---------------------------------------- 0.0/2.7 MB ? eta -:--:--\n",
      "    --------------------------------------- 0.1/2.7 MB 1.1 MB/s eta 0:00:03\n",
      "   -- ------------------------------------- 0.2/2.7 MB 1.7 MB/s eta 0:00:02\n",
      "   ---- ----------------------------------- 0.3/2.7 MB 1.5 MB/s eta 0:00:02\n",
      "   ---- ----------------------------------- 0.3/2.7 MB 1.5 MB/s eta 0:00:02\n",
      "   ----- ---------------------------------- 0.4/2.7 MB 1.4 MB/s eta 0:00:02\n",
      "   ------ --------------------------------- 0.4/2.7 MB 1.3 MB/s eta 0:00:02\n",
      "   ------- -------------------------------- 0.5/2.7 MB 1.4 MB/s eta 0:00:02\n",
      "   ------- -------------------------------- 0.5/2.7 MB 1.3 MB/s eta 0:00:02\n",
      "   -------- ------------------------------- 0.6/2.7 MB 1.2 MB/s eta 0:00:02\n",
      "   --------- ------------------------------ 0.6/2.7 MB 1.2 MB/s eta 0:00:02\n",
      "   --------- ------------------------------ 0.6/2.7 MB 1.2 MB/s eta 0:00:02\n",
      "   --------- ------------------------------ 0.6/2.7 MB 1.1 MB/s eta 0:00:02\n",
      "   --------- ------------------------------ 0.7/2.7 MB 1.0 MB/s eta 0:00:03\n",
      "   ---------- ----------------------------- 0.7/2.7 MB 1.0 MB/s eta 0:00:02\n",
      "   ---------- ----------------------------- 0.7/2.7 MB 996.9 kB/s eta 0:00:03\n",
      "   ---------- ----------------------------- 0.7/2.7 MB 949.1 kB/s eta 0:00:03\n",
      "   ----------- ---------------------------- 0.8/2.7 MB 963.6 kB/s eta 0:00:03\n",
      "   ------------ --------------------------- 0.8/2.7 MB 958.5 kB/s eta 0:00:02\n",
      "   ------------- -------------------------- 0.9/2.7 MB 988.4 kB/s eta 0:00:02\n",
      "   ------------- -------------------------- 0.9/2.7 MB 988.5 kB/s eta 0:00:02\n",
      "   -------------- ------------------------- 1.0/2.7 MB 1.0 MB/s eta 0:00:02\n",
      "   -------------- ------------------------- 1.0/2.7 MB 1.0 MB/s eta 0:00:02\n",
      "   --------------- ------------------------ 1.0/2.7 MB 972.9 kB/s eta 0:00:02\n",
      "   ---------------- ----------------------- 1.1/2.7 MB 987.1 kB/s eta 0:00:02\n",
      "   ---------------- ----------------------- 1.2/2.7 MB 1.0 MB/s eta 0:00:02\n",
      "   ------------------ --------------------- 1.2/2.7 MB 1.0 MB/s eta 0:00:02\n",
      "   ------------------ --------------------- 1.3/2.7 MB 1.0 MB/s eta 0:00:02\n",
      "   ------------------- -------------------- 1.3/2.7 MB 1.0 MB/s eta 0:00:02\n",
      "   -------------------- ------------------- 1.4/2.7 MB 1.0 MB/s eta 0:00:02\n",
      "   --------------------- ------------------ 1.4/2.7 MB 1.1 MB/s eta 0:00:02\n",
      "   --------------------- ------------------ 1.5/2.7 MB 1.1 MB/s eta 0:00:02\n",
      "   ---------------------- ----------------- 1.6/2.7 MB 1.1 MB/s eta 0:00:02\n",
      "   ----------------------- ---------------- 1.6/2.7 MB 1.1 MB/s eta 0:00:02\n",
      "   ------------------------ --------------- 1.7/2.7 MB 1.1 MB/s eta 0:00:01\n",
      "   ------------------------- -------------- 1.8/2.7 MB 1.1 MB/s eta 0:00:01\n",
      "   --------------------------- ------------ 1.9/2.7 MB 1.1 MB/s eta 0:00:01\n",
      "   --------------------------- ------------ 1.9/2.7 MB 1.1 MB/s eta 0:00:01\n",
      "   --------------------------- ------------ 1.9/2.7 MB 1.1 MB/s eta 0:00:01\n",
      "   ---------------------------- ----------- 1.9/2.7 MB 1.1 MB/s eta 0:00:01\n",
      "   ------------------------------ --------- 2.0/2.7 MB 1.1 MB/s eta 0:00:01\n",
      "   ------------------------------ --------- 2.1/2.7 MB 1.1 MB/s eta 0:00:01\n",
      "   ------------------------------- -------- 2.2/2.7 MB 1.1 MB/s eta 0:00:01\n",
      "   -------------------------------- ------- 2.2/2.7 MB 1.1 MB/s eta 0:00:01\n",
      "   ---------------------------------- ----- 2.3/2.7 MB 1.2 MB/s eta 0:00:01\n",
      "   ----------------------------------- ---- 2.4/2.7 MB 1.2 MB/s eta 0:00:01\n",
      "   ------------------------------------ --- 2.5/2.7 MB 1.2 MB/s eta 0:00:01\n",
      "   ------------------------------------- -- 2.5/2.7 MB 1.2 MB/s eta 0:00:01\n",
      "   -------------------------------------- - 2.6/2.7 MB 1.2 MB/s eta 0:00:01\n",
      "   ---------------------------------------  2.7/2.7 MB 1.2 MB/s eta 0:00:01\n",
      "   ---------------------------------------  2.7/2.7 MB 1.2 MB/s eta 0:00:01\n",
      "   ---------------------------------------  2.7/2.7 MB 1.1 MB/s eta 0:00:01\n",
      "   ---------------------------------------- 2.7/2.7 MB 1.1 MB/s eta 0:00:00\n",
      "Installing collected packages: pypdfium2, pdfminer.six, pdfplumber\n",
      "Successfully installed pdfminer.six-20221105 pdfplumber-0.10.2 pypdfium2-4.20.0\n",
      "Note: you may need to restart the kernel to use updated packages.\n"
     ]
    }
   ],
   "source": [
    "pip install pdfplumber"
   ]
  },
  {
   "cell_type": "code",
   "execution_count": 22,
   "metadata": {
    "colab": {
     "base_uri": "https://localhost:8080/",
     "height": 722
    },
    "executionInfo": {
     "elapsed": 5682,
     "status": "ok",
     "timestamp": 1694667042234,
     "user": {
      "displayName": "Azhar Ali",
      "userId": "01422980945266001071"
     },
     "user_tz": 420
    },
    "id": "0Dljtcs0BhJ2",
    "outputId": "ca92f66c-7b01-47a1-8daf-7c0c262caa68"
   },
   "outputs": [
    {
     "name": "stderr",
     "output_type": "stream",
     "text": [
      "[nltk_data] Downloading package stopwords to\n",
      "[nltk_data]     C:\\Users\\SQ\\AppData\\Roaming\\nltk_data...\n",
      "[nltk_data]   Package stopwords is already up-to-date!\n",
      "[nltk_data] Downloading package punkt to\n",
      "[nltk_data]     C:\\Users\\SQ\\AppData\\Roaming\\nltk_data...\n",
      "[nltk_data]   Package punkt is already up-to-date!\n"
     ]
    },
    {
     "name": "stdout",
     "output_type": "stream",
     "text": [
      "[('Details', 484), ('Exprience', 446), ('months', 376), ('company', 330), ('description', 310), ('1', 290), ('year', 232), ('January', 216), ('Less', 204), ('Data', 200), ('data', 192), ('Skill', 166), ('Maharashtra', 166), ('6', 164), ('Python', 156), ('Science', 154), ('I', 146), ('Education', 142), ('College', 140), ('The', 126), ('project', 126), ('like', 126), ('Project', 124), ('Learning', 116), ('India', 114), ('Machine', 112), ('University', 112), ('Web', 106), ('using', 104), ('monthsCompany', 102), ('B', 98), ('C', 98), ('SQL', 96), ('time', 92), ('learning', 90), ('Mumbai', 90), ('Pune', 90), ('Arts', 90), ('A', 84), ('application', 84), ('Engineering', 78), ('24', 76), ('various', 76), ('Software', 76), ('Responsibilities', 76), ('Nagpur', 76), ('development', 74), ('Management', 74), ('projects', 74), ('Technologies', 72)]\n"
     ]
    }
   ],
   "source": [
    "import nltk\n",
    "nltk.download('stopwords')\n",
    "nltk.download('punkt')\n",
    "import nltk\n",
    "from nltk.corpus import stopwords\n",
    "import string\n",
    "# from wordcloud import WordCloud\n",
    "\n",
    "oneSetOfStopWords = set(stopwords.words('english')+['``',\"''\"])\n",
    "totalWords =[]\n",
    "Sentences = df['Resume'].values\n",
    "cleanedSentences = \"\"\n",
    "for i in range(0,160):\n",
    "    cleanedText = cleanResume(Sentences[i])\n",
    "    cleanedSentences += cleanedText\n",
    "    requiredWords = nltk.word_tokenize(cleanedText)\n",
    "    for word in requiredWords:\n",
    "        if word not in oneSetOfStopWords and word not in string.punctuation:\n",
    "            totalWords.append(word)\n",
    "\n",
    "wordfreqdist = nltk.FreqDist(totalWords)\n",
    "mostcommon = wordfreqdist.most_common(50)\n",
    "print(mostcommon)"
   ]
  },
  {
   "cell_type": "code",
   "execution_count": 48,
   "metadata": {},
   "outputs": [
    {
     "name": "stdout",
     "output_type": "stream",
     "text": [
      "Requirement already satisfied: pdfplumber in c:\\users\\sq\\anaconda3\\lib\\site-packages (0.10.2)\n",
      "Requirement already satisfied: pdfminer.six==20221105 in c:\\users\\sq\\anaconda3\\lib\\site-packages (from pdfplumber) (20221105)\n",
      "Requirement already satisfied: Pillow>=9.1 in c:\\users\\sq\\anaconda3\\lib\\site-packages (from pdfplumber) (9.4.0)\n",
      "Requirement already satisfied: pypdfium2>=4.18.0 in c:\\users\\sq\\anaconda3\\lib\\site-packages (from pdfplumber) (4.20.0)\n",
      "Requirement already satisfied: charset-normalizer>=2.0.0 in c:\\users\\sq\\anaconda3\\lib\\site-packages (from pdfminer.six==20221105->pdfplumber) (2.0.4)\n",
      "Requirement already satisfied: cryptography>=36.0.0 in c:\\users\\sq\\anaconda3\\lib\\site-packages (from pdfminer.six==20221105->pdfplumber) (41.0.2)\n",
      "Requirement already satisfied: cffi>=1.12 in c:\\users\\sq\\anaconda3\\lib\\site-packages (from cryptography>=36.0.0->pdfminer.six==20221105->pdfplumber) (1.15.1)\n",
      "Requirement already satisfied: pycparser in c:\\users\\sq\\anaconda3\\lib\\site-packages (from cffi>=1.12->cryptography>=36.0.0->pdfminer.six==20221105->pdfplumber) (2.21)\n"
     ]
    }
   ],
   "source": [
    "!pip install pdfplumber"
   ]
  },
  {
   "cell_type": "markdown",
   "metadata": {
    "id": "8iUQEnN7AB5X"
   },
   "source": [
    "#Words in to categorical vales"
   ]
  },
  {
   "cell_type": "code",
   "execution_count": 23,
   "metadata": {
    "executionInfo": {
     "elapsed": 978,
     "status": "ok",
     "timestamp": 1694666629740,
     "user": {
      "displayName": "Azhar Ali",
      "userId": "01422980945266001071"
     },
     "user_tz": 420
    },
    "id": "nzdqGax1-sZE"
   },
   "outputs": [],
   "source": [
    "from sklearn.preprocessing import LabelEncoder\n",
    "\n",
    "var_mod = ['Category']\n",
    "le = LabelEncoder()\n",
    "for i in var_mod:\n",
    "    df[i] = le.fit_transform(df[i])"
   ]
  },
  {
   "cell_type": "code",
   "execution_count": 24,
   "metadata": {
    "colab": {
     "base_uri": "https://localhost:8080/"
    },
    "executionInfo": {
     "elapsed": 394,
     "status": "ok",
     "timestamp": 1694670313953,
     "user": {
      "displayName": "Azhar Ali",
      "userId": "01422980945266001071"
     },
     "user_tz": 420
    },
    "id": "v5dVslEC-slk",
    "outputId": "44d40988-1815-4b03-c100-945392bf17b3"
   },
   "outputs": [
    {
     "data": {
      "text/plain": [
       "array([ 6, 12,  0,  1, 24, 16, 22, 14,  5, 15,  4, 21,  2, 11, 18, 20,  8,\n",
       "       17, 19,  7, 13, 10,  9,  3, 23])"
      ]
     },
     "execution_count": 24,
     "metadata": {},
     "output_type": "execute_result"
    }
   ],
   "source": [
    "df['Category'].unique()"
   ]
  },
  {
   "cell_type": "markdown",
   "metadata": {
    "id": "InerYRJJAk6O"
   },
   "source": [
    "#Vectorization"
   ]
  },
  {
   "cell_type": "code",
   "execution_count": 25,
   "metadata": {
    "executionInfo": {
     "elapsed": 1354,
     "status": "ok",
     "timestamp": 1694667305989,
     "user": {
      "displayName": "Azhar Ali",
      "userId": "01422980945266001071"
     },
     "user_tz": 420
    },
    "id": "9aJbv6UT-snh"
   },
   "outputs": [],
   "source": [
    "from sklearn.model_selection import train_test_split\n",
    "from sklearn.feature_extraction.text import TfidfVectorizer\n",
    "from scipy.sparse import hstack\n",
    "\n",
    "requiredText = df['cleaned_resume'].values\n",
    "requiredTarget = df['Category'].values\n",
    "\n",
    "word_vectorizer = TfidfVectorizer(\n",
    "    sublinear_tf=True,\n",
    "    stop_words='english',\n",
    "    max_features=1500)\n",
    "word_vectorizer.fit(requiredText)\n",
    "WordFeatures = word_vectorizer.transform(requiredText)"
   ]
  },
  {
   "cell_type": "markdown",
   "metadata": {
    "id": "vZ9plOMpDMkk"
   },
   "source": [
    "#Spliting\n"
   ]
  },
  {
   "cell_type": "code",
   "execution_count": 26,
   "metadata": {
    "colab": {
     "base_uri": "https://localhost:8080/"
    },
    "executionInfo": {
     "elapsed": 4734,
     "status": "ok",
     "timestamp": 1694667690399,
     "user": {
      "displayName": "Azhar Ali",
      "userId": "01422980945266001071"
     },
     "user_tz": 420
    },
    "id": "OfGSngG7-srm",
    "outputId": "73069d1e-4cfc-4c41-9db2-6e15c5878f9e"
   },
   "outputs": [
    {
     "name": "stdout",
     "output_type": "stream",
     "text": [
      "Feature completed .....\n",
      "(769, 1500)\n",
      "(193, 1500)\n"
     ]
    }
   ],
   "source": [
    "print (\"Feature completed .....\")\n",
    "\n",
    "X_train,X_test,y_train,y_test = train_test_split(WordFeatures,requiredTarget,random_state=0, test_size=0.2)\n",
    "print(X_train.shape)\n",
    "print(X_test.shape)"
   ]
  },
  {
   "cell_type": "markdown",
   "metadata": {
    "id": "arzEOQ-iG0rr"
   },
   "source": [
    "#Now let's train the model and print classification report"
   ]
  },
  {
   "cell_type": "code",
   "execution_count": 27,
   "metadata": {
    "executionInfo": {
     "elapsed": 71825,
     "status": "ok",
     "timestamp": 1694668155383,
     "user": {
      "displayName": "Azhar Ali",
      "userId": "01422980945266001071"
     },
     "user_tz": 420
    },
    "id": "L2Qp3wqZELi9"
   },
   "outputs": [],
   "source": [
    "clf = OneVsRestClassifier(KNeighborsClassifier())\n",
    "clf.fit(X_train, y_train)\n",
    "prediction = clf.predict(X_test)"
   ]
  },
  {
   "cell_type": "code",
   "execution_count": 28,
   "metadata": {
    "colab": {
     "base_uri": "https://localhost:8080/"
    },
    "executionInfo": {
     "elapsed": 547,
     "status": "ok",
     "timestamp": 1694668309838,
     "user": {
      "displayName": "Azhar Ali",
      "userId": "01422980945266001071"
     },
     "user_tz": 420
    },
    "id": "ji31wmZGFsSJ",
    "outputId": "e25d4d48-7aec-4b69-dc90-52498ae03ea3"
   },
   "outputs": [
    {
     "data": {
      "text/plain": [
       "0.9896373056994818"
      ]
     },
     "execution_count": 28,
     "metadata": {},
     "output_type": "execute_result"
    }
   ],
   "source": [
    "from sklearn.metrics import accuracy_score\n",
    "accuracy_score(y_test,prediction)"
   ]
  },
  {
   "cell_type": "code",
   "execution_count": 29,
   "metadata": {
    "colab": {
     "base_uri": "https://localhost:8080/"
    },
    "executionInfo": {
     "elapsed": 307275,
     "status": "ok",
     "timestamp": 1694668779035,
     "user": {
      "displayName": "Azhar Ali",
      "userId": "01422980945266001071"
     },
     "user_tz": 420
    },
    "id": "2r7D2QhmGaZP",
    "outputId": "493f3a24-512c-488c-bb00-7b8bb441ebdf"
   },
   "outputs": [
    {
     "name": "stdout",
     "output_type": "stream",
     "text": [
      "Accuracy of KNeighbors Classifier on training set: 0.99\n",
      "Accuracy of KNeighbors Classifier on test set: 0.99\n",
      "\n",
      " Classification report for classifier OneVsRestClassifier(estimator=KNeighborsClassifier()):\n",
      "              precision    recall  f1-score   support\n",
      "\n",
      "           0       1.00      1.00      1.00         3\n",
      "           1       1.00      1.00      1.00         3\n",
      "           2       1.00      0.80      0.89         5\n",
      "           3       1.00      1.00      1.00         9\n",
      "           4       1.00      1.00      1.00         6\n",
      "           5       0.83      1.00      0.91         5\n",
      "           6       1.00      1.00      1.00         9\n",
      "           7       1.00      1.00      1.00         7\n",
      "           8       1.00      0.91      0.95        11\n",
      "           9       1.00      1.00      1.00         9\n",
      "          10       1.00      1.00      1.00         8\n",
      "          11       0.90      1.00      0.95         9\n",
      "          12       1.00      1.00      1.00         5\n",
      "          13       1.00      1.00      1.00         9\n",
      "          14       1.00      1.00      1.00         7\n",
      "          15       1.00      1.00      1.00        19\n",
      "          16       1.00      1.00      1.00         3\n",
      "          17       1.00      1.00      1.00         4\n",
      "          18       1.00      1.00      1.00         5\n",
      "          19       1.00      1.00      1.00         6\n",
      "          20       1.00      1.00      1.00        11\n",
      "          21       1.00      1.00      1.00         4\n",
      "          22       1.00      1.00      1.00        13\n",
      "          23       1.00      1.00      1.00        15\n",
      "          24       1.00      1.00      1.00         8\n",
      "\n",
      "    accuracy                           0.99       193\n",
      "   macro avg       0.99      0.99      0.99       193\n",
      "weighted avg       0.99      0.99      0.99       193\n",
      "\n",
      "\n"
     ]
    }
   ],
   "source": [
    "print('Accuracy of KNeighbors Classifier on training set: {:.2f}'.format(clf.score(X_train, y_train)))\n",
    "print('Accuracy of KNeighbors Classifier on test set: {:.2f}'.format(clf.score(X_test, y_test)))\n",
    "\n",
    "print(\"\\n Classification report for classifier %s:\\n%s\\n\" % (clf, metrics.classification_report(y_test, prediction)))"
   ]
  },
  {
   "cell_type": "markdown",
   "metadata": {
    "id": "06vy_PB1HT_Q"
   },
   "source": [
    "#Prediction system"
   ]
  },
  {
   "cell_type": "code",
   "execution_count": 38,
   "metadata": {
    "executionInfo": {
     "elapsed": 3652,
     "status": "ok",
     "timestamp": 1694669634900,
     "user": {
      "displayName": "Azhar Ali",
      "userId": "01422980945266001071"
     },
     "user_tz": 420
    },
    "id": "TOurEcxeJBEC"
   },
   "outputs": [],
   "source": [
    "myresume = \"\"\"Azhar Ali\n",
    " PO# Odero lal station district & taluka Matiari, Sindh, 70090\n",
    " 03229036085\n",
    " azhar.ali.sahowal@gmail.com\n",
    "Azhar Ali is a skilled professional in the fields of Data Science and Machine\n",
    "Learning. With a passion for uncovering insights from data, Azhar has honed\n",
    "expertise in various data analysis and machine learning techniques. Eager to\n",
    "contribute knowledge and skills in a real-world setting, Azhar is actively seeking\n",
    "opportunities for employment or internships. With a strong foundation in data-driven\n",
    "decision-making, Azhar is poised to make a meaningful impact in the world of data\n",
    "science.\n",
    "Govt. Higher secondary school Odero lal station\n",
    "Matriculation\n",
    "668- A Grade\n",
    "Govt. Higher secondary school Odero lal station\n",
    "Intermediate\n",
    "762- B grade\n",
    "University of Sindh, Jamshoro\n",
    "BS Computer Science\n",
    "3.2 CGPA\n",
    "Python Programming\n",
    "OOPs\n",
    "Machine Learning\n",
    "Data Science\n",
    "Natural Language Precessing (NLP)\n",
    "Deep Learning CNNs RNNs\n",
    "Resume Screening (IBA Bootcamp)\n",
    "\"Resume Screening using Data Science and Machine Learning,\" is a cutting-edge\n",
    "solution that harnesses the power of advanced technologies to streamline the\n",
    "hiring process. By leveraging data science and machine learning algorithms, this\n",
    "project efficiently sifts through resumes, identifying top candidates based on\n",
    "predefined criteria.\n",
    "Telemedicine as my (FYP)\n",
    "Developing predictive model to aid doctors in diagnosing diseases based on\n",
    "symptoms and medical history.\n",
    "Data Science Certified from IBM through Coursera.\n",
    "Data Science with Python from IBA readyness Bootcamp program\"\"\""
   ]
  },
  {
   "cell_type": "code",
   "execution_count": 31,
   "metadata": {
    "executionInfo": {
     "elapsed": 5,
     "status": "ok",
     "timestamp": 1694668979212,
     "user": {
      "displayName": "Azhar Ali",
      "userId": "01422980945266001071"
     },
     "user_tz": 420
    },
    "id": "QcPPIJ4OHLXE"
   },
   "outputs": [],
   "source": [
    "import pickle"
   ]
  },
  {
   "cell_type": "code",
   "execution_count": 34,
   "metadata": {},
   "outputs": [],
   "source": [
    "with open('clf.pkl','wb') as file:\n",
    "    pickle.dump(clf,file)\n",
    "    "
   ]
  },
  {
   "cell_type": "code",
   "execution_count": 35,
   "metadata": {},
   "outputs": [],
   "source": [
    "with open('word_vectorizer','wb') as file1:\n",
    "    pickle.dump(word_vectorizer,file1)"
   ]
  },
  {
   "cell_type": "code",
   "execution_count": 36,
   "metadata": {
    "executionInfo": {
     "elapsed": 1471,
     "status": "ok",
     "timestamp": 1694669779803,
     "user": {
      "displayName": "Azhar Ali",
      "userId": "01422980945266001071"
     },
     "user_tz": 420
    },
    "id": "9Giqk05KLNpO"
   },
   "outputs": [],
   "source": [
    "#loading models\n",
    "clf = pickle.load(open('clf.pkl','rb'))"
   ]
  },
  {
   "cell_type": "code",
   "execution_count": 39,
   "metadata": {
    "executionInfo": {
     "elapsed": 379,
     "status": "ok",
     "timestamp": 1694670024782,
     "user": {
      "displayName": "Azhar Ali",
      "userId": "01422980945266001071"
     },
     "user_tz": 420
    },
    "id": "8SmaGqrhLpZr"
   },
   "outputs": [],
   "source": [
    "#clean the input resume\n",
    "cleaned_resume = cleanResume(myresume)"
   ]
  },
  {
   "cell_type": "code",
   "execution_count": 40,
   "metadata": {
    "executionInfo": {
     "elapsed": 411,
     "status": "ok",
     "timestamp": 1694670092724,
     "user": {
      "displayName": "Azhar Ali",
      "userId": "01422980945266001071"
     },
     "user_tz": 420
    },
    "id": "86VNWcAyNGwM"
   },
   "outputs": [],
   "source": [
    "input_features = word_vectorizer.transform([cleaned_resume])"
   ]
  },
  {
   "cell_type": "code",
   "execution_count": 41,
   "metadata": {
    "executionInfo": {
     "elapsed": 381,
     "status": "ok",
     "timestamp": 1694670329813,
     "user": {
      "displayName": "Azhar Ali",
      "userId": "01422980945266001071"
     },
     "user_tz": 420
    },
    "id": "8ttXl_LXNR8o"
   },
   "outputs": [],
   "source": [
    " prediction_id = clf.predict(input_features)[0]"
   ]
  },
  {
   "cell_type": "code",
   "execution_count": 42,
   "metadata": {
    "executionInfo": {
     "elapsed": 386,
     "status": "ok",
     "timestamp": 1694670421475,
     "user": {
      "displayName": "Azhar Ali",
      "userId": "01422980945266001071"
     },
     "user_tz": 420
    },
    "id": "ZJ3nyCGzOaP3"
   },
   "outputs": [],
   "source": [
    "#maping category ID to category name....\n",
    "category_mapping = {\n",
    "            15: \"Java Developer\",\n",
    "            23: \"Testing\",\n",
    "            8: \"DevOps Engineer\",\n",
    "            20: \"Python Developer\",\n",
    "            24: \"Web Designing\",\n",
    "            12: \"HR\",\n",
    "            13: \"Hadoop\",\n",
    "            3: \"Blockchain\",\n",
    "            10: \"ETL Developer\",\n",
    "            18: \"Operations Manager\",\n",
    "            6: \"Data Science\",\n",
    "            22: \"Sales\",\n",
    "            16: \"Mechanical Engineer\",\n",
    "            1: \"Arts\",\n",
    "            7: \"Database\",\n",
    "            11: \"Electrical Engineering\",\n",
    "            14: \"Health and fitness\",\n",
    "            19: \"PMO\",\n",
    "            4: \"Business Analyst\",\n",
    "            9: \"DotNet Developer\",\n",
    "            2: \"Automation Testing\",\n",
    "            17: \"Network Security Engineer\",\n",
    "            21: \"SAP Developer\",\n",
    "            5: \"Civil Engineer\",\n",
    "            0: \"Advocate\",\n",
    "        }\n"
   ]
  },
  {
   "cell_type": "code",
   "execution_count": 45,
   "metadata": {
    "colab": {
     "base_uri": "https://localhost:8080/"
    },
    "executionInfo": {
     "elapsed": 603,
     "status": "ok",
     "timestamp": 1694670550943,
     "user": {
      "displayName": "Azhar Ali",
      "userId": "01422980945266001071"
     },
     "user_tz": 420
    },
    "id": "oyLt_7htOeuq",
    "outputId": "234a77cf-f8d4-41b5-cee0-8d4e77d7040a"
   },
   "outputs": [
    {
     "name": "stdout",
     "output_type": "stream",
     "text": [
      "Category Name: Data Science\n"
     ]
    }
   ],
   "source": [
    "category_name = category_mapping.get(prediction_id, \"Unknown\")\n",
    "print(\"Category Name:\", category_name)"
   ]
  },
  {
   "cell_type": "code",
   "execution_count": 44,
   "metadata": {
    "colab": {
     "base_uri": "https://localhost:8080/"
    },
    "executionInfo": {
     "elapsed": 10,
     "status": "ok",
     "timestamp": 1694670333359,
     "user": {
      "displayName": "Azhar Ali",
      "userId": "01422980945266001071"
     },
     "user_tz": 420
    },
    "id": "66400BYRNgg-",
    "outputId": "e7e22a73-783b-4770-8576-f1406e033e22"
   },
   "outputs": [
    {
     "data": {
      "text/plain": [
       "6"
      ]
     },
     "execution_count": 44,
     "metadata": {},
     "output_type": "execute_result"
    }
   ],
   "source": [
    "prediction_id"
   ]
  },
  {
   "cell_type": "code",
   "execution_count": null,
   "metadata": {
    "id": "LsGeZ_TpN4Dm"
   },
   "outputs": [],
   "source": []
  }
 ],
 "metadata": {
  "colab": {
   "authorship_tag": "ABX9TyPe23Of3YSinNnQCs9NJtHK",
   "mount_file_id": "17vJY3eWQ22wJNeWKS3-gytaxdnTwkdWS",
   "provenance": [],
   "toc_visible": true
  },
  "kernelspec": {
   "display_name": "Python 3 (ipykernel)",
   "language": "python",
   "name": "python3"
  },
  "language_info": {
   "codemirror_mode": {
    "name": "ipython",
    "version": 3
   },
   "file_extension": ".py",
   "mimetype": "text/x-python",
   "name": "python",
   "nbconvert_exporter": "python",
   "pygments_lexer": "ipython3",
   "version": "3.11.4"
  }
 },
 "nbformat": 4,
 "nbformat_minor": 1
}
